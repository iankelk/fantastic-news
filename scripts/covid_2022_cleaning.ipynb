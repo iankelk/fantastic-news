{
 "cells": [
  {
   "cell_type": "code",
   "execution_count": 1,
   "id": "fe47da52",
   "metadata": {},
   "outputs": [],
   "source": [
    "import pandas as pd\n",
    "df = pd.read_csv('covid_data_22.csv')"
   ]
  },
  {
   "cell_type": "code",
   "execution_count": 2,
   "id": "33113d7a",
   "metadata": {},
   "outputs": [
    {
     "data": {
      "text/html": [
       "<div>\n",
       "<style scoped>\n",
       "    .dataframe tbody tr th:only-of-type {\n",
       "        vertical-align: middle;\n",
       "    }\n",
       "\n",
       "    .dataframe tbody tr th {\n",
       "        vertical-align: top;\n",
       "    }\n",
       "\n",
       "    .dataframe thead th {\n",
       "        text-align: right;\n",
       "    }\n",
       "</style>\n",
       "<table border=\"1\" class=\"dataframe\">\n",
       "  <thead>\n",
       "    <tr style=\"text-align: right;\">\n",
       "      <th></th>\n",
       "      <th>submission_date</th>\n",
       "      <th>state</th>\n",
       "      <th>tot_cases</th>\n",
       "      <th>conf_cases</th>\n",
       "      <th>prob_cases</th>\n",
       "      <th>new_case</th>\n",
       "      <th>pnew_case</th>\n",
       "      <th>tot_death</th>\n",
       "      <th>conf_death</th>\n",
       "      <th>prob_death</th>\n",
       "      <th>new_death</th>\n",
       "      <th>pnew_death</th>\n",
       "      <th>created_at</th>\n",
       "      <th>consent_cases</th>\n",
       "      <th>consent_deaths</th>\n",
       "    </tr>\n",
       "  </thead>\n",
       "  <tbody>\n",
       "    <tr>\n",
       "      <th>0</th>\n",
       "      <td>03/11/2021</td>\n",
       "      <td>KS</td>\n",
       "      <td>297229</td>\n",
       "      <td>241035.0</td>\n",
       "      <td>56194.0</td>\n",
       "      <td>0</td>\n",
       "      <td>0.0</td>\n",
       "      <td>4851</td>\n",
       "      <td>NaN</td>\n",
       "      <td>NaN</td>\n",
       "      <td>0</td>\n",
       "      <td>0.0</td>\n",
       "      <td>03/12/2021 03:20:13 PM</td>\n",
       "      <td>Agree</td>\n",
       "      <td>NaN</td>\n",
       "    </tr>\n",
       "    <tr>\n",
       "      <th>1</th>\n",
       "      <td>12/01/2021</td>\n",
       "      <td>ND</td>\n",
       "      <td>163565</td>\n",
       "      <td>135705.0</td>\n",
       "      <td>27860.0</td>\n",
       "      <td>589</td>\n",
       "      <td>220.0</td>\n",
       "      <td>1907</td>\n",
       "      <td>NaN</td>\n",
       "      <td>NaN</td>\n",
       "      <td>9</td>\n",
       "      <td>0.0</td>\n",
       "      <td>12/02/2021 02:35:20 PM</td>\n",
       "      <td>Agree</td>\n",
       "      <td>Not agree</td>\n",
       "    </tr>\n",
       "    <tr>\n",
       "      <th>2</th>\n",
       "      <td>01/02/2022</td>\n",
       "      <td>AS</td>\n",
       "      <td>11</td>\n",
       "      <td>NaN</td>\n",
       "      <td>NaN</td>\n",
       "      <td>0</td>\n",
       "      <td>0.0</td>\n",
       "      <td>0</td>\n",
       "      <td>NaN</td>\n",
       "      <td>NaN</td>\n",
       "      <td>0</td>\n",
       "      <td>0.0</td>\n",
       "      <td>01/03/2022 03:18:16 PM</td>\n",
       "      <td>NaN</td>\n",
       "      <td>NaN</td>\n",
       "    </tr>\n",
       "    <tr>\n",
       "      <th>3</th>\n",
       "      <td>11/22/2021</td>\n",
       "      <td>AL</td>\n",
       "      <td>841461</td>\n",
       "      <td>620483.0</td>\n",
       "      <td>220978.0</td>\n",
       "      <td>703</td>\n",
       "      <td>357.0</td>\n",
       "      <td>16377</td>\n",
       "      <td>12727.0</td>\n",
       "      <td>3650.0</td>\n",
       "      <td>7</td>\n",
       "      <td>3.0</td>\n",
       "      <td>11/22/2021 12:00:00 AM</td>\n",
       "      <td>Agree</td>\n",
       "      <td>Agree</td>\n",
       "    </tr>\n",
       "    <tr>\n",
       "      <th>4</th>\n",
       "      <td>05/30/2022</td>\n",
       "      <td>AK</td>\n",
       "      <td>251425</td>\n",
       "      <td>NaN</td>\n",
       "      <td>NaN</td>\n",
       "      <td>0</td>\n",
       "      <td>0.0</td>\n",
       "      <td>1252</td>\n",
       "      <td>NaN</td>\n",
       "      <td>NaN</td>\n",
       "      <td>0</td>\n",
       "      <td>0.0</td>\n",
       "      <td>05/31/2022 01:20:20 PM</td>\n",
       "      <td>NaN</td>\n",
       "      <td>NaN</td>\n",
       "    </tr>\n",
       "  </tbody>\n",
       "</table>\n",
       "</div>"
      ],
      "text/plain": [
       "  submission_date state  tot_cases  conf_cases  prob_cases  new_case  \\\n",
       "0      03/11/2021    KS     297229    241035.0     56194.0         0   \n",
       "1      12/01/2021    ND     163565    135705.0     27860.0       589   \n",
       "2      01/02/2022    AS         11         NaN         NaN         0   \n",
       "3      11/22/2021    AL     841461    620483.0    220978.0       703   \n",
       "4      05/30/2022    AK     251425         NaN         NaN         0   \n",
       "\n",
       "   pnew_case  tot_death  conf_death  prob_death  new_death  pnew_death  \\\n",
       "0        0.0       4851         NaN         NaN          0         0.0   \n",
       "1      220.0       1907         NaN         NaN          9         0.0   \n",
       "2        0.0          0         NaN         NaN          0         0.0   \n",
       "3      357.0      16377     12727.0      3650.0          7         3.0   \n",
       "4        0.0       1252         NaN         NaN          0         0.0   \n",
       "\n",
       "               created_at consent_cases consent_deaths  \n",
       "0  03/12/2021 03:20:13 PM         Agree            NaN  \n",
       "1  12/02/2021 02:35:20 PM         Agree      Not agree  \n",
       "2  01/03/2022 03:18:16 PM           NaN            NaN  \n",
       "3  11/22/2021 12:00:00 AM         Agree          Agree  \n",
       "4  05/31/2022 01:20:20 PM           NaN            NaN  "
      ]
     },
     "execution_count": 2,
     "metadata": {},
     "output_type": "execute_result"
    }
   ],
   "source": [
    "df.head()"
   ]
  },
  {
   "cell_type": "code",
   "execution_count": 3,
   "id": "569a986a",
   "metadata": {},
   "outputs": [
    {
     "data": {
      "text/plain": [
       "array(['AK', 'AL', 'AR', 'AS', 'AZ', 'CA', 'CO', 'CT', 'DC', 'DE', 'FL',\n",
       "       'FSM', 'GA', 'GU', 'HI', 'IA', 'ID', 'IL', 'IN', 'KS', 'KY', 'LA',\n",
       "       'MA', 'MD', 'ME', 'MI', 'MN', 'MO', 'MP', 'MS', 'MT', 'NC', 'ND',\n",
       "       'NE', 'NH', 'NJ', 'NM', 'NV', 'NY', 'NYC', 'OH', 'OK', 'OR', 'PA',\n",
       "       'PR', 'PW', 'RI', 'RMI', 'SC', 'SD', 'TN', 'TX', 'UT', 'VA', 'VI',\n",
       "       'VT', 'WA', 'WI', 'WV', 'WY'], dtype=object)"
      ]
     },
     "execution_count": 3,
     "metadata": {},
     "output_type": "execute_result"
    }
   ],
   "source": [
    "states = df[\"state\"].unique()\n",
    "states.sort()\n",
    "states"
   ]
  },
  {
   "cell_type": "markdown",
   "id": "5b6fdfdb",
   "metadata": {},
   "source": [
    "Based on the visualization table and the list of states above, we want to remove some states for 2 reasons. \n",
    "\n",
    "Either \n",
    "(1) we don't have census data for it to get relative statistics, or \n",
    "(2) NYC was included as its own entity other than New York.\n",
    "* American Samoa (AS)\n",
    "* Guam (GU)\n",
    "* US Virgin Islands (VI)\n",
    "* Republic of the Marshall Islands (RMI)\n",
    "* New York City (NYC)\n",
    "* Federated States of Micronesia (FSM)\n",
    "* Palau (PW)\n",
    "* Northern Mariana Islands (MP)\n",
    "\n",
    "I added all these locations to the helpers.js file to ensure I had found everything to remove."
   ]
  },
  {
   "cell_type": "code",
   "execution_count": 4,
   "id": "b92267dd",
   "metadata": {},
   "outputs": [],
   "source": [
    "def filter_rows_by_values(df, col, values):\n",
    "    return df[~df[col].isin(values)]"
   ]
  },
  {
   "cell_type": "code",
   "execution_count": 5,
   "id": "b9de9663",
   "metadata": {},
   "outputs": [],
   "source": [
    "df_clean = filter_rows_by_values(df, \"state\", [\"AS\", \"GU\", \"VI\", \"RMI\", \"NYC\", \"FSM\", \"PW\", \"MP\"])"
   ]
  },
  {
   "cell_type": "code",
   "execution_count": 6,
   "id": "eebb2220",
   "metadata": {},
   "outputs": [
    {
     "data": {
      "text/plain": [
       "(60000, 15)"
      ]
     },
     "execution_count": 6,
     "metadata": {},
     "output_type": "execute_result"
    }
   ],
   "source": [
    "df.shape"
   ]
  },
  {
   "cell_type": "code",
   "execution_count": 7,
   "id": "e7adabd5",
   "metadata": {},
   "outputs": [
    {
     "data": {
      "text/plain": [
       "(52000, 15)"
      ]
     },
     "execution_count": 7,
     "metadata": {},
     "output_type": "execute_result"
    }
   ],
   "source": [
    "df_clean.shape"
   ]
  },
  {
   "cell_type": "code",
   "execution_count": 8,
   "id": "3b511431",
   "metadata": {},
   "outputs": [],
   "source": [
    "df_clean.to_csv('covid_data_22_clean.csv', index=False)"
   ]
  },
  {
   "cell_type": "code",
   "execution_count": 9,
   "id": "f3108573",
   "metadata": {},
   "outputs": [
    {
     "name": "stderr",
     "output_type": "stream",
     "text": [
      "/var/folders/w6/gwwdd5w96ddfwpf2ybyb0wjc0000gn/T/ipykernel_26294/655001797.py:2: SettingWithCopyWarning: \n",
      "A value is trying to be set on a copy of a slice from a DataFrame.\n",
      "Try using .loc[row_indexer,col_indexer] = value instead\n",
      "\n",
      "See the caveats in the documentation: https://pandas.pydata.org/pandas-docs/stable/user_guide/indexing.html#returning-a-view-versus-a-copy\n",
      "  df_clean['submission_date'] = pd.to_datetime(df_clean['submission_date']).dt.date\n"
     ]
    }
   ],
   "source": [
    "df_clean\n",
    "df_clean['submission_date'] = pd.to_datetime(df_clean['submission_date']).dt.date\n",
    "df_clean = df_clean.sort_values(by=['submission_date'])"
   ]
  },
  {
   "cell_type": "code",
   "execution_count": 10,
   "id": "5e10e867",
   "metadata": {},
   "outputs": [],
   "source": [
    "df_vis = (df_clean.groupby([\"submission_date\"])\n",
    " .agg({'new_case':'sum', 'new_death': 'sum'})\n",
    " .reset_index()\n",
    " .rename(columns={'submission_date':'date','new_case':'cases', 'new_death':'deaths'}))"
   ]
  },
  {
   "cell_type": "code",
   "execution_count": 11,
   "id": "8d31f86f",
   "metadata": {},
   "outputs": [],
   "source": [
    "# datetime.date(2021, 8, 4)\n",
    "import datetime\n",
    "\n",
    "mask = (df_vis['date'] >= datetime.date(2020, 1, 22)) & (df_vis['date'] <= datetime.date(2021, 8, 4))\n",
    "# mask = (df_vis['date'] >= '2020-01-22') & (df_vis['date'] <= '2021-08-04')\n",
    "covid_range_df = df_vis.loc[mask]\n",
    "covid_range_df = covid_range_df.reset_index()\n"
   ]
  },
  {
   "cell_type": "code",
   "execution_count": 12,
   "id": "fc31acbd",
   "metadata": {},
   "outputs": [],
   "source": [
    "covid_range_df.to_json(\"covid_cases_deaths.json\", orient='records', date_format='iso')"
   ]
  },
  {
   "cell_type": "code",
   "execution_count": 13,
   "id": "f5d67aff",
   "metadata": {},
   "outputs": [
    {
     "data": {
      "text/html": [
       "<div>\n",
       "<style scoped>\n",
       "    .dataframe tbody tr th:only-of-type {\n",
       "        vertical-align: middle;\n",
       "    }\n",
       "\n",
       "    .dataframe tbody tr th {\n",
       "        vertical-align: top;\n",
       "    }\n",
       "\n",
       "    .dataframe thead th {\n",
       "        text-align: right;\n",
       "    }\n",
       "</style>\n",
       "<table border=\"1\" class=\"dataframe\">\n",
       "  <thead>\n",
       "    <tr style=\"text-align: right;\">\n",
       "      <th></th>\n",
       "      <th>index</th>\n",
       "      <th>date</th>\n",
       "      <th>cases</th>\n",
       "      <th>deaths</th>\n",
       "    </tr>\n",
       "  </thead>\n",
       "  <tbody>\n",
       "    <tr>\n",
       "      <th>0</th>\n",
       "      <td>0</td>\n",
       "      <td>2020-01-22</td>\n",
       "      <td>4</td>\n",
       "      <td>0</td>\n",
       "    </tr>\n",
       "    <tr>\n",
       "      <th>1</th>\n",
       "      <td>1</td>\n",
       "      <td>2020-01-23</td>\n",
       "      <td>2</td>\n",
       "      <td>0</td>\n",
       "    </tr>\n",
       "    <tr>\n",
       "      <th>2</th>\n",
       "      <td>2</td>\n",
       "      <td>2020-01-24</td>\n",
       "      <td>1</td>\n",
       "      <td>0</td>\n",
       "    </tr>\n",
       "    <tr>\n",
       "      <th>3</th>\n",
       "      <td>3</td>\n",
       "      <td>2020-01-25</td>\n",
       "      <td>0</td>\n",
       "      <td>0</td>\n",
       "    </tr>\n",
       "    <tr>\n",
       "      <th>4</th>\n",
       "      <td>4</td>\n",
       "      <td>2020-01-26</td>\n",
       "      <td>1</td>\n",
       "      <td>0</td>\n",
       "    </tr>\n",
       "    <tr>\n",
       "      <th>...</th>\n",
       "      <td>...</td>\n",
       "      <td>...</td>\n",
       "      <td>...</td>\n",
       "      <td>...</td>\n",
       "    </tr>\n",
       "    <tr>\n",
       "      <th>556</th>\n",
       "      <td>556</td>\n",
       "      <td>2021-07-31</td>\n",
       "      <td>79796</td>\n",
       "      <td>390</td>\n",
       "    </tr>\n",
       "    <tr>\n",
       "      <th>557</th>\n",
       "      <td>557</td>\n",
       "      <td>2021-08-01</td>\n",
       "      <td>60464</td>\n",
       "      <td>363</td>\n",
       "    </tr>\n",
       "    <tr>\n",
       "      <th>558</th>\n",
       "      <td>558</td>\n",
       "      <td>2021-08-02</td>\n",
       "      <td>100959</td>\n",
       "      <td>647</td>\n",
       "    </tr>\n",
       "    <tr>\n",
       "      <th>559</th>\n",
       "      <td>559</td>\n",
       "      <td>2021-08-03</td>\n",
       "      <td>108659</td>\n",
       "      <td>703</td>\n",
       "    </tr>\n",
       "    <tr>\n",
       "      <th>560</th>\n",
       "      <td>560</td>\n",
       "      <td>2021-08-04</td>\n",
       "      <td>125652</td>\n",
       "      <td>743</td>\n",
       "    </tr>\n",
       "  </tbody>\n",
       "</table>\n",
       "<p>561 rows × 4 columns</p>\n",
       "</div>"
      ],
      "text/plain": [
       "     index        date   cases  deaths\n",
       "0        0  2020-01-22       4       0\n",
       "1        1  2020-01-23       2       0\n",
       "2        2  2020-01-24       1       0\n",
       "3        3  2020-01-25       0       0\n",
       "4        4  2020-01-26       1       0\n",
       "..     ...         ...     ...     ...\n",
       "556    556  2021-07-31   79796     390\n",
       "557    557  2021-08-01   60464     363\n",
       "558    558  2021-08-02  100959     647\n",
       "559    559  2021-08-03  108659     703\n",
       "560    560  2021-08-04  125652     743\n",
       "\n",
       "[561 rows x 4 columns]"
      ]
     },
     "execution_count": 13,
     "metadata": {},
     "output_type": "execute_result"
    }
   ],
   "source": [
    "covid_range_df"
   ]
  },
  {
   "cell_type": "code",
   "execution_count": null,
   "id": "b7487a1d",
   "metadata": {},
   "outputs": [],
   "source": []
  }
 ],
 "metadata": {
  "kernelspec": {
   "display_name": "Python 3 (ipykernel)",
   "language": "python",
   "name": "python3"
  },
  "language_info": {
   "codemirror_mode": {
    "name": "ipython",
    "version": 3
   },
   "file_extension": ".py",
   "mimetype": "text/x-python",
   "name": "python",
   "nbconvert_exporter": "python",
   "pygments_lexer": "ipython3",
   "version": "3.9.7"
  }
 },
 "nbformat": 4,
 "nbformat_minor": 5
}
